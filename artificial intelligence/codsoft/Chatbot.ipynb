{
  "nbformat": 4,
  "nbformat_minor": 0,
  "metadata": {
    "colab": {
      "provenance": []
    },
    "kernelspec": {
      "name": "python3",
      "display_name": "Python 3"
    },
    "language_info": {
      "name": "python"
    }
  },
  "cells": [
    {
      "cell_type": "code",
      "source": [
        "import nltk\n",
        "from nltk.chat.util import Chat, reflections"
      ],
      "metadata": {
        "id": "7QBXPDtD3INq"
      },
      "execution_count": 1,
      "outputs": []
    },
    {
      "cell_type": "code",
      "source": [
        "pairs = [\n",
        "    [r\"hello|hi|hey\", [\"Hello!\", \"Hi there!\", \"Hey!\"]],\n",
        "    [r\"how are you|how's it going\", [\"I'm good, thanks!\", \"I'm doing well, how about you?\"]],\n",
        "    [r\"what's your name\", [\"I'm a chatbot.\", \"I'm just a bot.\"]],\n",
        "    [r\"bye|goodbye\", [\"Goodbye!\", \"See you later!\"]],\n",
        "    [r\".*\", [\"I'm not sure I understand.\", \"Could you please rephrase that?\"]]\n",
        "]\n",
        "\n",
        "\n",
        "chatbot = Chat(pairs, reflections)\n",
        "\n",
        "print(\"Hello! I'm a simple chatbot. Type 'exit' to end the conversation.\")\n",
        "\n",
        "\n",
        "while True:\n",
        "    user_input = input(\"You: \")\n",
        "    if user_input.strip().lower() == 'exit':\n",
        "        print(\"Chatbot: Goodbye!\")\n",
        "        break\n",
        "    response = chatbot.respond(user_input) or \"I didn't understand that.\"\n",
        "    print(\"Chatbot:\", response)"
      ],
      "metadata": {
        "colab": {
          "base_uri": "https://localhost:8080/"
        },
        "id": "RBOp96nr3wCI",
        "outputId": "5248a88e-3639-437f-b2a4-6d159f029fc9"
      },
      "execution_count": 2,
      "outputs": [
        {
          "output_type": "stream",
          "name": "stdout",
          "text": [
            "Hello! I'm a simple chatbot. Type 'exit' to end the conversation.\n",
            "You: hello\n",
            "Chatbot: Hello!\n",
            "You: how are you\n",
            "Chatbot: I'm good, thanks!\n",
            "You: exit\n",
            "Chatbot: Goodbye!\n"
          ]
        }
      ]
    }
  ]
}